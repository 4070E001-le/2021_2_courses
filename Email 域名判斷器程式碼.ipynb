{
  "nbformat": 4,
  "nbformat_minor": 0,
  "metadata": {
    "colab": {
      "name": "Untitled9.ipynb",
      "provenance": [],
      "authorship_tag": "ABX9TyMA2c6Obmqe/+8q/Pf6wEE+",
      "include_colab_link": true
    },
    "kernelspec": {
      "name": "python3",
      "display_name": "Python 3"
    },
    "language_info": {
      "name": "python"
    }
  },
  "cells": [
    {
      "cell_type": "markdown",
      "metadata": {
        "id": "view-in-github",
        "colab_type": "text"
      },
      "source": [
        "<a href=\"https://colab.research.google.com/github/4070E001-le/2021_2_courses/blob/main/Email%20%E5%9F%9F%E5%90%8D%E5%88%A4%E6%96%B7%E5%99%A8%E7%A8%8B%E5%BC%8F%E7%A2%BC.ipynb\" target=\"_parent\"><img src=\"https://colab.research.google.com/assets/colab-badge.svg\" alt=\"Open In Colab\"/></a>"
      ]
    },
    {
      "cell_type": "code",
      "execution_count": null,
      "metadata": {
        "id": "GjZkKrdcaypg"
      },
      "outputs": [],
      "source": [
        "\n",
        "email = input(\"What is your email address?: \").strip()\n",
        "\n",
        "\n",
        "user_name = email[:email.index(\"@\")]\n",
        "\n",
        "\n",
        "domain_name = email[email.index(\"@\")+1:]\n",
        "\n",
        "\n",
        "output = \"Your username is '{}' and your domain name is '{}'\".format(user_name,domain_name)\n",
        "\n",
        "\n",
        "print(output)"
      ]
    }
  ]
}